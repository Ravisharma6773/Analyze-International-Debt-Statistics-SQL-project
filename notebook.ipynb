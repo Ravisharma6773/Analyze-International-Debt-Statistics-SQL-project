
1. The World Bank's international debt data
It's not that we humans only take debts to manage our necessities. A country may also take debt to manage its economy. For example, infrastructure spending is one costly ingredient required for a country's citizens to lead comfortable lives. The World Bank is the organization that provides debt to countries.

In this notebook, we are going to analyze international debt data collected by The World Bank. The dataset contains information about the amount of debt (in USD) owed by developing countries across several categories. We are going to find the answers to questions like:

What is the total amount of debt that is owed by the countries listed in the dataset?
Which country owns the maximum amount of debt and what does that amount look like?
What is the average amount of debt owed by countries across different debt indicators?


The first line of code connects us to the international_debt database where the table international_debt is residing. Let's first SELECT all of the columns from the international_debt table. Also, we'll limit the output to the first ten rows to keep the output clean.

%%sql
postgresql:///international_debt
    Select * from international_debt
    LIMIT 10
10 rows affected.
country_name	country_code	indicator_name	indicator_code	debt
Afghanistan	AFG	Disbursements on external debt, long-term (DIS, current US$)	DT.DIS.DLXF.CD	72894453.700000003
Afghanistan	AFG	Interest payments on external debt, long-term (INT, current US$)	DT.INT.DLXF.CD	53239440.100000001
Afghanistan	AFG	PPG, bilateral (AMT, current US$)	DT.AMT.BLAT.CD	61739336.899999999
Afghanistan	AFG	PPG, bilateral (DIS, current US$)	DT.DIS.BLAT.CD	49114729.399999999
Afghanistan	AFG	PPG, bilateral (INT, current US$)	DT.INT.BLAT.CD	39903620.100000001
Afghanistan	AFG	PPG, multilateral (AMT, current US$)	DT.AMT.MLAT.CD	39107845
Afghanistan	AFG	PPG, multilateral (DIS, current US$)	DT.DIS.MLAT.CD	23779724.300000001
Afghanistan	AFG	PPG, multilateral (INT, current US$)	DT.INT.MLAT.CD	13335820
Afghanistan	AFG	PPG, official creditors (AMT, current US$)	DT.AMT.OFFT.CD	100847181.900000006
Afghanistan	AFG	PPG, official creditors (DIS, current US$)	DT.DIS.OFFT.CD	72894453.700000003
2. Finding the number of distinct countries
From the first ten rows, we can see the amount of debt owed by Afghanistan in the different debt indicators. But we do not know the number of different countries we have on the table. There are repetitions in the country names because a country is most likely to have debt in more than one debt indicator.

Without a count of unique countries, we will not be able to perform our statistical analyses holistically. In this section, we are going to extract the number of unique countries present in the table.

%%sql
SELECT 
    COUNT(Distinct country_name) AS total_distinct_countries
FROM international_debt;
 * postgresql:///international_debt
1 rows affected.
total_distinct_countries
124
3. Finding out the distinct debt indicators
We can see there are a total of 124 countries present on the table. As we saw in the first section, there is a column called indicator_name that briefly specifies the purpose of taking the debt. Just beside that column, there is another column called indicator_code which symbolizes the category of these debts. Knowing about these various debt indicators will help us to understand the areas in which a country can possibly be indebted to.

%%sql
select distinct indicator_code as distinct_debt_indicators from international_debt
order by distinct_debt_indicators;
 * postgresql:///international_debt
25 rows affected.
distinct_debt_indicators
DT.AMT.BLAT.CD
DT.AMT.DLXF.CD
DT.AMT.DPNG.CD
DT.AMT.MLAT.CD
DT.AMT.OFFT.CD
DT.AMT.PBND.CD
DT.AMT.PCBK.CD
DT.AMT.PROP.CD
DT.AMT.PRVT.CD
DT.DIS.BLAT.CD
DT.DIS.DLXF.CD
DT.DIS.MLAT.CD
DT.DIS.OFFT.CD
DT.DIS.PCBK.CD
DT.DIS.PROP.CD
DT.DIS.PRVT.CD
DT.INT.BLAT.CD
DT.INT.DLXF.CD
DT.INT.DPNG.CD
DT.INT.MLAT.CD
DT.INT.OFFT.CD
DT.INT.PBND.CD
DT.INT.PCBK.CD
DT.INT.PROP.CD
DT.INT.PRVT.CD
4. Totaling the amount of debt owed by the countries
As mentioned earlier, the financial debt of a particular country represents its economic state. But if we were to project this on an overall global scale, how will we approach it?

Let's switch gears from the debt indicators now and find out the total amount of debt (in USD) that is owed by the different countries. This will give us a sense of how the overall economy of the entire world is holding up.

%%sql
SELECT ROUND(SUM(debt)/1000000,2) as total_debt
FROM international_debt
 * postgresql:///international_debt
1 rows affected.
total_debt
3079734.49
5. Country with the highest debt
"Human beings cannot comprehend very large or very small numbers. It would be useful for us to acknowledge that fact." - Daniel Kahneman. That is more than 3 million million USD, an amount which is really hard for us to fathom.

Now that we have the exact total of the amounts of debt owed by several countries, let's now find out the country that owns the highest amount of debt along with the amount. Note that this debt is the sum of different debts owed by a country across several categories. This will help to understand more about the country in terms of its socio-economic scenarios. We can also find out the category in which the country owns its highest debt. But we will leave that for now.

%%sql
SELECT 
    country_name, SUM(debt) as total_debt
FROM international_debt
group by country_name
order by total_debt desc
LIMIT 1;
 * postgresql:///international_debt
1 rows affected.
country_name	total_debt
China	285793494734.200001568
6. Average amount of debt across indicators
So, it was China. A more in-depth breakdown of China's debts can be found here.

We now have a brief overview of the dataset and a few of its summary statistics. We already have an idea of the different debt indicators in which the countries owe their debts. We can dig even further to find out on an average how much debt a country owes? This will give us a better sense of the distribution of the amount of debt across different indicators.

%%sql
SELECT indicator_code as debt_indicator, indicator_name,
    Avg(debt) as average_debt
FROM international_debt
GROUP BY debt_indicator, indicator_name
ORDER BY average_debt desc
LIMIT 10;
 * postgresql:///international_debt
10 rows affected.
average_debt	indicator_name	debt_indicator
5904868401.499193612	Principal repayments on external debt, long-term (AMT, current US$)	DT.AMT.DLXF.CD
5161194333.812658349	Principal repayments on external debt, private nonguaranteed (PNG) (AMT, current US$)	DT.AMT.DPNG.CD
2152041216.890243888	Disbursements on external debt, long-term (DIS, current US$)	DT.DIS.DLXF.CD
1958983452.859836046	PPG, official creditors (DIS, current US$)	DT.DIS.OFFT.CD
1803694101.963265321	PPG, private creditors (AMT, current US$)	DT.AMT.PRVT.CD
1644024067.650806481	Interest payments on external debt, long-term (INT, current US$)	DT.INT.DLXF.CD
1223139290.398230108	PPG, bilateral (DIS, current US$)	DT.DIS.BLAT.CD
1220410844.421518983	Interest payments on external debt, private nonguaranteed (PNG) (INT, current US$)	DT.INT.DPNG.CD
1191187963.083064523	PPG, official creditors (AMT, current US$)	DT.AMT.OFFT.CD
1082623947.653623188	PPG, bonds (AMT, current US$)	DT.AMT.PBND.CD
7. The highest amount of principal repayments
We can see that the indicator DT.AMT.DLXF.CD tops the chart of average debt. This category includes repayment of long term debts. Countries take on long-term debt to acquire immediate capital. More information about this category can be found here.

An interesting observation in the above finding is that there is a huge difference in the amounts of the indicators after the second one. This indicates that the first two indicators might be the most severe categories in which the countries owe their debts.

We can investigate this a bit more so as to find out which country owes the highest amount of debt in the category of long term debts (DT.AMT.DLXF.CD). Since not all the countries suffer from the same kind of economic disturbances, this finding will allow us to understand that particular country's economic condition a bit more specifically.

%%sql
SELECT 
    country_name, indicator_name
FROM international_debt
WHERE indicator_code = (SELECT 
                 indicator_code
             FROM international_debt
             group by indicator_code
                       order by avg(debt) desc
                        LIMIT 1)
order by debt desc;
 * postgresql:///international_debt
124 rows affected.
country_name	indicator_name
China	Principal repayments on external debt, long-term (AMT, current US$)
Brazil	Principal repayments on external debt, long-term (AMT, current US$)
Russian Federation	Principal repayments on external debt, long-term (AMT, current US$)
Turkey	Principal repayments on external debt, long-term (AMT, current US$)
South Asia	Principal repayments on external debt, long-term (AMT, current US$)
India	Principal repayments on external debt, long-term (AMT, current US$)
Indonesia	Principal repayments on external debt, long-term (AMT, current US$)
Kazakhstan	Principal repayments on external debt, long-term (AMT, current US$)
Mexico	Principal repayments on external debt, long-term (AMT, current US$)
Least developed countries: UN classification	Principal repayments on external debt, long-term (AMT, current US$)
IDA only	Principal repayments on external debt, long-term (AMT, current US$)
Romania	Principal repayments on external debt, long-term (AMT, current US$)
Colombia	Principal repayments on external debt, long-term (AMT, current US$)
Angola	Principal repayments on external debt, long-term (AMT, current US$)
Cameroon	Principal repayments on external debt, long-term (AMT, current US$)
Venezuela, RB	Principal repayments on external debt, long-term (AMT, current US$)
Egypt, Arab Rep.	Principal repayments on external debt, long-term (AMT, current US$)
Lebanon	Principal repayments on external debt, long-term (AMT, current US$)
South Africa	Principal repayments on external debt, long-term (AMT, current US$)
Vietnam	Principal repayments on external debt, long-term (AMT, current US$)
Pakistan	Principal repayments on external debt, long-term (AMT, current US$)
Ukraine	Principal repayments on external debt, long-term (AMT, current US$)
Philippines	Principal repayments on external debt, long-term (AMT, current US$)
Thailand	Principal repayments on external debt, long-term (AMT, current US$)
Peru	Principal repayments on external debt, long-term (AMT, current US$)
Sri Lanka	Principal repayments on external debt, long-term (AMT, current US$)
Morocco	Principal repayments on external debt, long-term (AMT, current US$)
Belarus	Principal repayments on external debt, long-term (AMT, current US$)
Ecuador	Principal repayments on external debt, long-term (AMT, current US$)
Serbia	Principal repayments on external debt, long-term (AMT, current US$)
Mongolia	Principal repayments on external debt, long-term (AMT, current US$)
Nigeria	Principal repayments on external debt, long-term (AMT, current US$)
Guatemala	Principal repayments on external debt, long-term (AMT, current US$)
Papua New Guinea	Principal repayments on external debt, long-term (AMT, current US$)
El Salvador	Principal repayments on external debt, long-term (AMT, current US$)
Kenya	Principal repayments on external debt, long-term (AMT, current US$)
Tunisia	Principal repayments on external debt, long-term (AMT, current US$)
Bosnia and Herzegovina	Principal repayments on external debt, long-term (AMT, current US$)
Uzbekistan	Principal repayments on external debt, long-term (AMT, current US$)
Bangladesh	Principal repayments on external debt, long-term (AMT, current US$)
Jordan	Principal repayments on external debt, long-term (AMT, current US$)
Dominican Republic	Principal repayments on external debt, long-term (AMT, current US$)
Bulgaria	Principal repayments on external debt, long-term (AMT, current US$)
Costa Rica	Principal repayments on external debt, long-term (AMT, current US$)
Mauritius	Principal repayments on external debt, long-term (AMT, current US$)
Ghana	Principal repayments on external debt, long-term (AMT, current US$)
Lao PDR	Principal repayments on external debt, long-term (AMT, current US$)
Georgia	Principal repayments on external debt, long-term (AMT, current US$)
Paraguay	Principal repayments on external debt, long-term (AMT, current US$)
Azerbaijan	Principal repayments on external debt, long-term (AMT, current US$)
Tanzania	Principal repayments on external debt, long-term (AMT, current US$)
Zambia	Principal repayments on external debt, long-term (AMT, current US$)
Ethiopia	Principal repayments on external debt, long-term (AMT, current US$)
Nicaragua	Principal repayments on external debt, long-term (AMT, current US$)
Bolivia	Principal repayments on external debt, long-term (AMT, current US$)
Cote d'Ivoire	Principal repayments on external debt, long-term (AMT, current US$)
Macedonia, FYR	Principal repayments on external debt, long-term (AMT, current US$)
Armenia	Principal repayments on external debt, long-term (AMT, current US$)
Kyrgyz Republic	Principal repayments on external debt, long-term (AMT, current US$)
Albania	Principal repayments on external debt, long-term (AMT, current US$)
Cambodia	Principal repayments on external debt, long-term (AMT, current US$)
Moldova	Principal repayments on external debt, long-term (AMT, current US$)
Montenegro	Principal repayments on external debt, long-term (AMT, current US$)
Uganda	Principal repayments on external debt, long-term (AMT, current US$)
Mozambique	Principal repayments on external debt, long-term (AMT, current US$)
Myanmar	Principal repayments on external debt, long-term (AMT, current US$)
Jamaica	Principal repayments on external debt, long-term (AMT, current US$)
Sudan	Principal repayments on external debt, long-term (AMT, current US$)
Tajikistan	Principal repayments on external debt, long-term (AMT, current US$)
Zimbabwe	Principal repayments on external debt, long-term (AMT, current US$)
Senegal	Principal repayments on external debt, long-term (AMT, current US$)
Honduras	Principal repayments on external debt, long-term (AMT, current US$)
Mauritania	Principal repayments on external debt, long-term (AMT, current US$)
Yemen, Rep.	Principal repayments on external debt, long-term (AMT, current US$)
Gabon	Principal repayments on external debt, long-term (AMT, current US$)
Syrian Arab Republic	Principal repayments on external debt, long-term (AMT, current US$)
Congo, Dem. Rep.	Principal repayments on external debt, long-term (AMT, current US$)
Kosovo	Principal repayments on external debt, long-term (AMT, current US$)
Congo, Rep.	Principal repayments on external debt, long-term (AMT, current US$)
Nepal	Principal repayments on external debt, long-term (AMT, current US$)
Mali	Principal repayments on external debt, long-term (AMT, current US$)
Bhutan	Principal repayments on external debt, long-term (AMT, current US$)
Chad	Principal repayments on external debt, long-term (AMT, current US$)
Algeria	Principal repayments on external debt, long-term (AMT, current US$)
Niger	Principal repayments on external debt, long-term (AMT, current US$)
Burkina Faso	Principal repayments on external debt, long-term (AMT, current US$)
Benin	Principal repayments on external debt, long-term (AMT, current US$)
Botswana	Principal repayments on external debt, long-term (AMT, current US$)
Maldives	Principal repayments on external debt, long-term (AMT, current US$)
Guyana	Principal repayments on external debt, long-term (AMT, current US$)
Madagascar	Principal repayments on external debt, long-term (AMT, current US$)
Iran, Islamic Rep.	Principal repayments on external debt, long-term (AMT, current US$)
Belize	Principal repayments on external debt, long-term (AMT, current US$)
Afghanistan	Principal repayments on external debt, long-term (AMT, current US$)
Djibouti	Principal repayments on external debt, long-term (AMT, current US$)
Togo	Principal repayments on external debt, long-term (AMT, current US$)
Cabo Verde	Principal repayments on external debt, long-term (AMT, current US$)
Haiti	Principal repayments on external debt, long-term (AMT, current US$)
Malawi	Principal repayments on external debt, long-term (AMT, current US$)
Gambia, The	Principal repayments on external debt, long-term (AMT, current US$)
Fiji	Principal repayments on external debt, long-term (AMT, current US$)
Lesotho	Principal repayments on external debt, long-term (AMT, current US$)
Eswatini	Principal repayments on external debt, long-term (AMT, current US$)
Rwanda	Principal repayments on external debt, long-term (AMT, current US$)
Guinea	Principal repayments on external debt, long-term (AMT, current US$)
Grenada	Principal repayments on external debt, long-term (AMT, current US$)
Somalia	Principal repayments on external debt, long-term (AMT, current US$)
Sierra Leone	Principal repayments on external debt, long-term (AMT, current US$)
Eritrea	Principal repayments on external debt, long-term (AMT, current US$)
Solomon Islands	Principal repayments on external debt, long-term (AMT, current US$)
Turkmenistan	Principal repayments on external debt, long-term (AMT, current US$)
Burundi	Principal repayments on external debt, long-term (AMT, current US$)
St. Vincent and the Grenadines	Principal repayments on external debt, long-term (AMT, current US$)
Samoa	Principal repayments on external debt, long-term (AMT, current US$)
Dominica	Principal repayments on external debt, long-term (AMT, current US$)
St. Lucia	Principal repayments on external debt, long-term (AMT, current US$)
Liberia	Principal repayments on external debt, long-term (AMT, current US$)
Vanuatu	Principal repayments on external debt, long-term (AMT, current US$)
Central African Republic	Principal repayments on external debt, long-term (AMT, current US$)
Tonga	Principal repayments on external debt, long-term (AMT, current US$)
Guinea-Bissau	Principal repayments on external debt, long-term (AMT, current US$)
Comoros	Principal repayments on external debt, long-term (AMT, current US$)
Sao Tome and Principe	Principal repayments on external debt, long-term (AMT, current US$)
Timor-Leste	Principal repayments on external debt, long-term (AMT, current US$)
8. The most common debt indicator
China has the highest amount of debt in the long-term debt (DT.AMT.DLXF.CD) category. This is verified by The World Bank. It is often a good idea to verify our analyses like this since it validates that our investigations are correct.

We saw that long-term debt is the topmost category when it comes to the average amount of debt. But is it the most common indicator in which the countries owe their debt? Let's find that out.

%%sql
select indicator_code, count(indicator_code) as indicator_count
from international_debt
group by indicator_code
order by indicator_count desc, indicator_code desc
LIMIT 20;
 * postgresql:///international_debt
20 rows affected.
indicator_code	indicator_count
DT.INT.OFFT.CD	124
DT.INT.MLAT.CD	124
DT.INT.DLXF.CD	124
DT.AMT.OFFT.CD	124
DT.AMT.MLAT.CD	124
DT.AMT.DLXF.CD	124
DT.DIS.DLXF.CD	123
DT.INT.BLAT.CD	122
DT.DIS.OFFT.CD	122
DT.AMT.BLAT.CD	122
DT.DIS.MLAT.CD	120
DT.DIS.BLAT.CD	113
DT.INT.PRVT.CD	98
DT.AMT.PRVT.CD	98
DT.INT.PCBK.CD	84
DT.AMT.PCBK.CD	84
DT.INT.DPNG.CD	79
DT.AMT.DPNG.CD	79
DT.INT.PBND.CD	69
DT.AMT.PBND.CD	69
9. Other viable debt issues and conclusion
There are a total of six debt indicators in which all the countries listed in our dataset have taken debt. The indicator DT.AMT.DLXF.CD is also there in the list. So, this gives us a clue that all these countries are suffering from a common economic issue. But that is not the end of the story, but just a part of the story.

Let's change tracks from debt_indicators now and focus on the amount of debt again. Let's find out the maximum amount of debt that each country has. With this, we will be in a position to identify the other plausible economic issues a country might be going through.

In this notebook, we took a look at debt owed by countries across the globe. We extracted a few summary statistics from the data and unraveled some interesting facts and figures. We also validated our findings to make sure the investigations are correct.

%%sql
Select country_name, MAX(debt) as maximum_debt
from international_debt
group by country_name
order by maximum_debt desc
LIMIT 10
 * postgresql:///international_debt
10 rows affected.
country_name	maximum_debt
China	96218620835.699996948
Brazil	90041840304.100006104
Russian Federation	66589761833.5
Turkey	51555031005.800003052
South Asia	48756295898.199996948
Least developed countries: UN classification	40160766261.599998474
IDA only	34531188113.199996948
India	31923507000.799999237
Indonesia	30916112653.799999237
Kazakhstan	27482093686.400001526
